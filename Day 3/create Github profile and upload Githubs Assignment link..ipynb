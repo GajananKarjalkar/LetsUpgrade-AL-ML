{
 "cells": [
  {
   "cell_type": "markdown",
   "metadata": {},
   "source": [
    "1.)  Go to Github.com\n",
    "2.)  Click on New to create new repository\n",
    "3.)  Give Repository Name as \"LetsUpgrade AL-ML\"\n",
    "4.)  Give description as Assignments\n",
    "5.)  Keep repository as public\n",
    "6.)  Click on create repository\n",
    "7.)  Upload an existing folder\n",
    "8.)  Drag and drop the folder in github\n",
    "9.)  Click on commit changes\n",
    "10.) Go to the repository \"LetsUpgrade AL-ML\"\n",
    "11.) Copy the URL\n",
    "12.) Fill the form , fill the name , email address and phone no\n",
    "13.) Click on Submit\n",
    "14.) Before submitting check the url in incognito window"
   ]
  }
 ],
 "metadata": {
  "kernelspec": {
   "display_name": "Python 3",
   "language": "python",
   "name": "python3"
  },
  "language_info": {
   "codemirror_mode": {
    "name": "ipython",
    "version": 3
   },
   "file_extension": ".py",
   "mimetype": "text/x-python",
   "name": "python",
   "nbconvert_exporter": "python",
   "pygments_lexer": "ipython3",
   "version": "3.7.6"
  }
 },
 "nbformat": 4,
 "nbformat_minor": 4
}
